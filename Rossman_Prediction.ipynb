{
 "cells": [
  {
   "cell_type": "code",
   "execution_count": 1,
   "metadata": {},
   "outputs": [],
   "source": [
    "import numpy as np\n",
    "import pandas as pd\n",
    "import matplotlib.pyplot as plt\n",
    "import seaborn as sns\n",
    "from sklearn.preprocessing import StandardScaler\n",
    "from sklearn.model_selection import train_test_split\n",
    "import lightgbm as lgb\n",
    "from sklearn.metrics import mean_squared_error\n",
    "from sklearn.ensemble import RandomForestRegressor\n",
    "from sklearn.tree import DecisionTreeRegressor\n",
    "from datetime import datetime"
   ]
  },
  {
   "cell_type": "code",
   "execution_count": 2,
   "metadata": {},
   "outputs": [],
   "source": [
    "import warnings\n",
    "warnings.filterwarnings(\"ignore\")"
   ]
  },
  {
   "cell_type": "code",
   "execution_count": 3,
   "metadata": {
    "_cell_guid": "79c7e3d0-c299-4dcb-8224-4455121ee9b0",
    "_uuid": "d629ff2d2480ee46fbb7e2d37f6b5fab8052498a"
   },
   "outputs": [],
   "source": [
    "def read_all_data():\n",
    "    data = pd.read_csv('train.csv')\n",
    "    store = pd.read_csv('store.csv')\n",
    "    test = pd.read_csv('test.csv')\n",
    "    sample = pd.read_csv('sample_submission.csv')\n",
    "    return data, test, store, sample"
   ]
  },
  {
   "cell_type": "code",
   "execution_count": 4,
   "metadata": {},
   "outputs": [],
   "source": [
    "train_df,test_df,store_df,sample = read_all_data()"
   ]
  },
  {
   "cell_type": "code",
   "execution_count": 5,
   "metadata": {},
   "outputs": [
    {
     "data": {
      "text/plain": [
       "Index(['Store', 'DayOfWeek', 'Date', 'Sales', 'Customers', 'Open', 'Promo',\n",
       "       'StateHoliday', 'SchoolHoliday'],\n",
       "      dtype='object')"
      ]
     },
     "execution_count": 5,
     "metadata": {},
     "output_type": "execute_result"
    }
   ],
   "source": [
    "train_df.columns"
   ]
  },
  {
   "cell_type": "code",
   "execution_count": 6,
   "metadata": {},
   "outputs": [],
   "source": [
    "def date_comp_column_duration(data):\n",
    "    mon=int(data[\"CompetitionOpenSinceMonth\"])\n",
    "    year=int(data[\"CompetitionOpenSinceYear\"])\n",
    "    store_date=data[\"Date\"]\n",
    "    if (mon==0)&(year==0):\n",
    "        return 0\n",
    "    else:\n",
    "        date=datetime.strptime((str(1)+\" \"+str(mon)+\" \"+str(year)),\"%d %m %Y\")\n",
    "        if date<store_date:\n",
    "            return (store_date-date).days\n",
    "        else:\n",
    "            return 1"
   ]
  },
  {
   "cell_type": "code",
   "execution_count": 7,
   "metadata": {},
   "outputs": [],
   "source": [
    "def date_comp_column(data):\n",
    "    mon=int(data[\"CompetitionOpenSinceMonth\"])\n",
    "    year=int(data[\"CompetitionOpenSinceYear\"])\n",
    "    store_date=data[\"Date\"]\n",
    "    if (mon==0)&(year==0):\n",
    "        return 0\n",
    "    else:\n",
    "        date=datetime.strptime((str(1)+\" \"+str(mon)+\" \"+str(year)),\"%d %m %Y\")\n",
    "        if date>store_date:\n",
    "            return 0\n",
    "        else:\n",
    "            return 1"
   ]
  },
  {
   "cell_type": "code",
   "execution_count": 8,
   "metadata": {},
   "outputs": [],
   "source": [
    "def groupby_operations():\n",
    "    data=pd.read_csv(\"train.csv\")\n",
    "    df=train_df.groupby([\"Store\",\"DayOfWeek\",\"Promo\"]).agg({\"Customers\":[np.mean,np.median]})\n",
    "    df.columns=[\"Cust_mean\",\"Cust_Median\"]\n",
    "    df=df.reset_index()\n",
    "    return df"
   ]
  },
  {
   "cell_type": "code",
   "execution_count": 9,
   "metadata": {},
   "outputs": [],
   "source": [
    "def null_store_impute(data):\n",
    "    data[\"CompetitionDistance\"]=data[\"CompetitionDistance\"].fillna(0)\n",
    "    data[\"CompetitionOpenSinceMonth\"]=data[\"CompetitionOpenSinceMonth\"].fillna(0)\n",
    "    data[\"CompetitionOpenSinceYear\"]=data[\"CompetitionOpenSinceYear\"].fillna(0)\n",
    "    data[\"Promo2SinceWeek\"]=data[\"Promo2SinceWeek\"].fillna(0)\n",
    "    data[\"Promo2SinceYear\"]=data[\"Promo2SinceYear\"].fillna(0)\n",
    "    data[\"PromoInterval\"]=data[\"PromoInterval\"].fillna(0)\n",
    "    return data"
   ]
  },
  {
   "cell_type": "code",
   "execution_count": 10,
   "metadata": {},
   "outputs": [],
   "source": [
    "def data_operation(data,store):\n",
    "    store_df=null_store_impute(store)\n",
    "    data[\"Date\"]=pd.to_datetime(data[\"Date\"])\n",
    "    data[\"Month\"]=data[\"Date\"].dt.month\n",
    "    data[\"Day\"]=data[\"Date\"].dt.day\n",
    "    data[\"Year\"]=data[\"Date\"].dt.year\n",
    "    data[\"StateHoliday\"]=data[\"StateHoliday\"].map({\"0\":0,0:0,\"a\":1,\"b\":2,\"c\":3})\n",
    "    data_merged=pd.merge(left=data,right=store,how=\"inner\")\n",
    "    return data_merged"
   ]
  },
  {
   "cell_type": "code",
   "execution_count": 11,
   "metadata": {},
   "outputs": [],
   "source": [
    "def date_comp_column(data):\n",
    "    mon=int(data[\"CompetitionOpenSinceMonth\"])\n",
    "    year=int(data[\"CompetitionOpenSinceYear\"])\n",
    "    store_date=data[\"Date\"]\n",
    "    if (mon==0)&(year==0):\n",
    "        return 0\n",
    "    else:\n",
    "        date=datetime.strptime((str(1)+\" \"+str(mon)+\" \"+str(year)),\"%d %m %Y\")\n",
    "        if date>store_date:\n",
    "            return 0\n",
    "        else:\n",
    "            return 1"
   ]
  },
  {
   "cell_type": "code",
   "execution_count": 12,
   "metadata": {},
   "outputs": [],
   "source": [
    "train_df=data_operation(train_df,store_df)\n",
    "test_df=data_operation(test_df,store_df)"
   ]
  },
  {
   "cell_type": "code",
   "execution_count": 13,
   "metadata": {},
   "outputs": [],
   "source": [
    "def feature_engineering(data):\n",
    "    data['is_december'] = data['Month'].apply(lambda v: 1 if v==12 else 0)\n",
    "    data['is_state_holiday_flg'] = data['StateHoliday'].apply(lambda v: 0 if v==0 else 1)\n",
    "    data['is_holiday'] = data['is_state_holiday_flg'] * data['SchoolHoliday']\n",
    "    #data[\"Month_Promo\"]=data[\"Month\"].apply(lambda x:1 if x in [11,8,10,9,12] else 0)\n",
    "    data[\"Competition_Flag\"]=data[\"CompetitionDistance\"].apply(lambda x:0 if x==0 else 1)\n",
    "    data[\"Promo_Flag\"]=data[\"Promo2SinceYear\"].apply(lambda x:0 if x==0 else 1)\n",
    "    customer_cols=groupby_operations()\n",
    "    data=pd.merge(on=[\"Store\",\"DayOfWeek\",\"Promo\"],left=data,right=customer_cols,how=\"left\")\n",
    "    data[\"Missing_Features\"]=(data==0).sum(axis=1)\n",
    "    data[\"Comp_Opened_Before\"]=data[['CompetitionOpenSinceMonth','CompetitionOpenSinceYear',\"Date\"]].apply(date_comp_column,axis=1)\n",
    "    data[\"Compettition_Opened_Before_Duration\"]=data[['CompetitionOpenSinceMonth','CompetitionOpenSinceYear',\"Date\"]].apply(date_comp_column_duration,axis=1)\n",
    "    data[\"CompetitionDistance_split\"]=pd.qcut(data[\"CompetitionDistance\"],5,labels=[1,2,3,4,5])\n",
    "    return data"
   ]
  },
  {
   "cell_type": "code",
   "execution_count": 14,
   "metadata": {},
   "outputs": [],
   "source": [
    "train_df=feature_engineering(train_df)\n",
    "test_df=feature_engineering(test_df)"
   ]
  },
  {
   "cell_type": "code",
   "execution_count": 15,
   "metadata": {},
   "outputs": [],
   "source": [
    "train_df = train_df[train_df['Open'] != 0]"
   ]
  },
  {
   "cell_type": "code",
   "execution_count": 16,
   "metadata": {},
   "outputs": [],
   "source": [
    "train_dummies=pd.get_dummies(data=train_df.drop(\"Date\",axis=1),drop_first=True)\n",
    "test_dummies=pd.get_dummies(data=test_df.drop(\"Date\",axis=1),drop_first=True)"
   ]
  },
  {
   "cell_type": "code",
   "execution_count": 17,
   "metadata": {},
   "outputs": [],
   "source": [
    "X=train_dummies.drop(columns=['Sales','Customers'])\n",
    "y=train_dummies[\"Sales\"]"
   ]
  },
  {
   "cell_type": "code",
   "execution_count": 18,
   "metadata": {},
   "outputs": [],
   "source": [
    "X_train, X_test, y_train, y_test = train_test_split(X, y, test_size=0.3, random_state=1)"
   ]
  },
  {
   "cell_type": "code",
   "execution_count": 19,
   "metadata": {},
   "outputs": [
    {
     "data": {
      "text/plain": [
       "1083.337175811585"
      ]
     },
     "execution_count": 19,
     "metadata": {},
     "output_type": "execute_result"
    }
   ],
   "source": [
    "model=lgb.LGBMRegressor(max_depth=10)\n",
    "\n",
    "model.fit(X_train,y_train)\n",
    "\n",
    "pred=model.predict(X_test)\n",
    "\n",
    "mean_squared_error(y_test,pred)**.5"
   ]
  },
  {
   "cell_type": "code",
   "execution_count": 20,
   "metadata": {
    "scrolled": true
   },
   "outputs": [
    {
     "data": {
      "text/plain": [
       "<matplotlib.axes._subplots.AxesSubplot at 0x21a6ab83e10>"
      ]
     },
     "execution_count": 20,
     "metadata": {},
     "output_type": "execute_result"
    },
    {
     "data": {
      "image/png": "[encoded data removed]",
      "text/plain": [
       "<Figure size 432x288 with 1 Axes>"
      ]
     },
     "metadata": {
      "needs_background": "light"
     },
     "output_type": "display_data"
    }
   ],
   "source": [
    "pd.DataFrame(index=X.columns,data=model.feature_importances_,columns=[\"Scores\"]).sort_values(by=\"Scores\",ascending=False).plot.bar()"
   ]
  },
  {
   "cell_type": "code",
   "execution_count": 22,
   "metadata": {},
   "outputs": [
    {
     "name": "stdout",
     "output_type": "stream",
     "text": [
      "|   iter    |  target   | max_depth | n_esti... | num_le... |\n",
      "-------------------------------------------------------------\n",
      "| \u001b[0m 1       \u001b[0m | \u001b[0m-5.034e+0\u001b[0m | \u001b[0m 28.61   \u001b[0m | \u001b[0m 260.4   \u001b[0m | \u001b[0m 273.7   \u001b[0m |\n",
      "| \u001b[0m 2       \u001b[0m | \u001b[0m-6.459e+0\u001b[0m | \u001b[0m 99.3    \u001b[0m | \u001b[0m 214.7   \u001b[0m | \u001b[0m 86.19   \u001b[0m |\n",
      "| \u001b[0m 3       \u001b[0m | \u001b[0m-5.894e+0\u001b[0m | \u001b[0m 78.95   \u001b[0m | \u001b[0m 90.02   \u001b[0m | \u001b[0m 342.5   \u001b[0m |\n",
      "| \u001b[0m 4       \u001b[0m | \u001b[0m-6.727e+0\u001b[0m | \u001b[0m 8.787   \u001b[0m | \u001b[0m 136.1   \u001b[0m | \u001b[0m 171.9   \u001b[0m |\n",
      "| \u001b[0m 5       \u001b[0m | \u001b[0m-6.343e+0\u001b[0m | \u001b[0m 48.46   \u001b[0m | \u001b[0m 177.3   \u001b[0m | \u001b[0m 114.6   \u001b[0m |\n",
      "| \u001b[95m 6       \u001b[0m | \u001b[95m-5.03e+05\u001b[0m | \u001b[95m 28.64   \u001b[0m | \u001b[95m 260.6   \u001b[0m | \u001b[95m 273.9   \u001b[0m |\n",
      "| \u001b[95m 7       \u001b[0m | \u001b[95m-5.005e+0\u001b[0m | \u001b[95m 29.72   \u001b[0m | \u001b[95m 267.5   \u001b[0m | \u001b[95m 281.6   \u001b[0m |\n",
      "| \u001b[95m 8       \u001b[0m | \u001b[95m-5.001e+0\u001b[0m | \u001b[95m 29.33   \u001b[0m | \u001b[95m 265.0   \u001b[0m | \u001b[95m 278.8   \u001b[0m |\n",
      "=============================================================\n"
     ]
    }
   ],
   "source": [
    "import lightgbm as lgb\n",
    "from bayes_opt import BayesianOptimization\n",
    "dtrain=lgb.Dataset(X_train,y_train.ravel())\n",
    "def bo_tune_lgb(max_depth,num_leaves ,n_estimators):\n",
    "    params = {'max_depth': int(round(max_depth)),\n",
    "              'objective': 'regression',\n",
    "              'num_leaves': int(round(num_leaves)),\n",
    "              'eval_metric': 'rmse',\n",
    "              'n_estimators':int(round(n_estimators))\n",
    "             }\n",
    "    cv_result = lgb.cv(params, dtrain,nfold=3)    \n",
    "    #print(cv_result)\n",
    "    #Return the negative RMSE\n",
    "    return -1.0 * cv_result[\"l2-mean\"][-1]\n",
    "\n",
    "lgb_bo = BayesianOptimization(bo_tune_lgb, {'max_depth': (5, 100), \n",
    "                                            'num_leaves':(10,400),\n",
    "                                            'n_estimators':(50,300)\n",
    "                                        })\n",
    "\n",
    "lgb_bo.maximize(init_points=5, n_iter=3)\n",
    "\n",
    "\n",
    "\n"
   ]
  },
  {
   "cell_type": "code",
   "execution_count": 23,
   "metadata": {},
   "outputs": [
    {
     "name": "stdout",
     "output_type": "stream",
     "text": [
      "{'max_depth': 29.33461731698678, 'n_estimators': 264.996210398561, 'num_leaves': 278.8313995922495}\n",
      "{'max_depth': 29, 'n_estimators': 265, 'num_leaves': 279}\n"
     ]
    }
   ],
   "source": [
    "params = lgb_bo.max['params']\n",
    "\n",
    "print(params)\n",
    "\n",
    "#Conversting the max_depth and n_estimator values from float to int\n",
    "params['max_depth']= int(round(params['max_depth']))\n",
    "params['num_leaves']= int(round(params['num_leaves']))\n",
    "params['n_estimators']= int(round(params['n_estimators']))\n",
    "print(params)\n",
    "\n"
   ]
  },
  {
   "cell_type": "code",
   "execution_count": 24,
   "metadata": {},
   "outputs": [
    {
     "data": {
      "text/plain": [
       "685.1269624582372"
      ]
     },
     "execution_count": 24,
     "metadata": {},
     "output_type": "execute_result"
    }
   ],
   "source": [
    "model=lgb.LGBMRegressor(**params)\n",
    "\n",
    "model.fit(X_train,y_train)\n",
    "\n",
    "pred=model.predict(X_test)\n",
    "\n",
    "mean_squared_error(y_test,pred)**.5"
   ]
  },
  {
   "cell_type": "code",
   "execution_count": 25,
   "metadata": {},
   "outputs": [],
   "source": [
    "model=lgb.LGBMRegressor(**params)\n",
    "\n",
    "model.fit(X,y)\n",
    "\n",
    "test_df[\"Sales\"]=model.predict(test_dummies.drop(\"Id\",axis=1))\n"
   ]
  },
  {
   "cell_type": "code",
   "execution_count": 26,
   "metadata": {},
   "outputs": [],
   "source": [
    "closed_dates_indexes = test_df[test_df['Open']==0].index\n",
    "test_df.loc[closed_dates_indexes, 'Sales'] = 0"
   ]
  },
  {
   "cell_type": "code",
   "execution_count": 27,
   "metadata": {},
   "outputs": [],
   "source": [
    "test_df[[\"Id\",\"Sales\"]].to_csv(r\"C:\\Users\\Gokul Mahendran\\Desktop\\gokul-home\\Rossmann\\submit2.csv\",index=False)"
   ]
  },
  {
   "cell_type": "code",
   "execution_count": null,
   "metadata": {},
   "outputs": [],
   "source": []
  }
 ],
 "metadata": {
  "kernelspec": {
   "display_name": "Python 3",
   "language": "python",
   "name": "python3"
  },
  "language_info": {
   "codemirror_mode": {
    "name": "ipython",
    "version": 3
   },
   "file_extension": ".py",
   "mimetype": "text/x-python",
   "name": "python",
   "nbconvert_exporter": "python",
   "pygments_lexer": "ipython3",
   "version": "3.7.3"
  }
 },
 "nbformat": 4,
 "nbformat_minor": 2
}
